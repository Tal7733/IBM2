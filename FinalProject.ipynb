{
 "cells": [
  {
   "cell_type": "markdown",
   "id": "5fe44910-3d38-4676-b4ff-8559462dfe37",
   "metadata": {},
   "source": [
    "<b><p style=\"font-size:200%;  color:#474973\">[ IBM Data Analysis with Python Final Project  ] </p></b>"
   ]
  },
  {
   "cell_type": "code",
   "execution_count": 1,
   "id": "e7862104-fa34-4d15-a90b-2d6597a714e7",
   "metadata": {},
   "outputs": [],
   "source": [
    "import pandas as pd\n",
    "import numpy as np\n",
    "import matplotlib.pyplot as plt \n",
    "import seaborn as sns\n",
    "\n",
    "from sklearn.linear_model import LinearRegression \n",
    "from sklearn.linear_model import Ridge\n",
    "from sklearn.preprocessing import PolynomialFeatures\n",
    "from sklearn.preprocessing import StandardScaler\n",
    "from sklearn.model_selection import train_test_split\n",
    "from sklearn.model_selection import cross_val_score\n",
    "from sklearn.model_selection import cross_val_predict\n",
    "from sklearn.model_selection import GridSearchCV\n",
    "from sklearn.metrics import mean_squared_error, r2_score\n",
    "from sklearn.impute import SimpleImputer\n",
    "from sklearn.pipeline import Pipeline"
   ]
  },
  {
   "cell_type": "markdown",
   "id": "c701840a-14d9-40d0-8a06-b07bb8843680",
   "metadata": {},
   "source": [
    "<b><p style=\"font-size:150%;  color:#333457\">Final Project Scenario</p></b>\n",
    "\n",
    "<p style=\"font-size:120%;  color:#333457\">\n",
    "In this assignment, you are a Data Analyst working at a Real Estate Investment Trust. The Trust would like to start investing in Residential real estate. <u>You are tasked with determining the market price of a house given a set of features</u>. You will analyze and predict housing prices using attributes or features such as square footage, number of bedrooms, number of floors, and so on. A template notebook is provided in the lab; your job is to complete the ten questions. Some hints to the questions are given in the template notebook.\n",
    "\n",
    "\n",
    "<b><p style=\"font-size:120%;  color:#333457\">About the Data</p></b>\n",
    "\n",
    "<p style=\"font-size:120%;  color:#333457\">\n",
    "This dataset contains house sale prices for King County, which includes Seattle. It includes homes sold between May 2014 and May 2015. It was taken from here. It was also slightly modified for the purposes of this course. \n",
    "</p>\n",
    "\n"
   ]
  },
  {
   "cell_type": "markdown",
   "id": "2240b7b5-3678-4564-81fd-64814d6a252f",
   "metadata": {},
   "source": [
    "<b><p style=\"font-size:170%;  color:#494A4A\">  Module 1: Importing Data Sets  </p></b>\n"
   ]
  },
  {
   "cell_type": "code",
   "execution_count": null,
   "id": "457d876b-66fd-4bdd-8c82-f03f4bfb556e",
   "metadata": {},
   "outputs": [],
   "source": []
  },
  {
   "cell_type": "code",
   "execution_count": 2,
   "id": "24e479df-8624-47c5-84d7-1f59edb976ab",
   "metadata": {},
   "outputs": [
    {
     "data": {
      "text/html": [
       "<div>\n",
       "<style scoped>\n",
       "    .dataframe tbody tr th:only-of-type {\n",
       "        vertical-align: middle;\n",
       "    }\n",
       "\n",
       "    .dataframe tbody tr th {\n",
       "        vertical-align: top;\n",
       "    }\n",
       "\n",
       "    .dataframe thead th {\n",
       "        text-align: right;\n",
       "    }\n",
       "</style>\n",
       "<table border=\"1\" class=\"dataframe\">\n",
       "  <thead>\n",
       "    <tr style=\"text-align: right;\">\n",
       "      <th></th>\n",
       "      <th>Unnamed: 0</th>\n",
       "      <th>id</th>\n",
       "      <th>date</th>\n",
       "      <th>price</th>\n",
       "      <th>bedrooms</th>\n",
       "      <th>bathrooms</th>\n",
       "      <th>sqft_living</th>\n",
       "      <th>sqft_lot</th>\n",
       "      <th>floors</th>\n",
       "      <th>waterfront</th>\n",
       "      <th>...</th>\n",
       "      <th>grade</th>\n",
       "      <th>sqft_above</th>\n",
       "      <th>sqft_basement</th>\n",
       "      <th>yr_built</th>\n",
       "      <th>yr_renovated</th>\n",
       "      <th>zipcode</th>\n",
       "      <th>lat</th>\n",
       "      <th>long</th>\n",
       "      <th>sqft_living15</th>\n",
       "      <th>sqft_lot15</th>\n",
       "    </tr>\n",
       "  </thead>\n",
       "  <tbody>\n",
       "    <tr>\n",
       "      <th>0</th>\n",
       "      <td>0</td>\n",
       "      <td>7129300520</td>\n",
       "      <td>20141013T000000</td>\n",
       "      <td>221900.0</td>\n",
       "      <td>3.0</td>\n",
       "      <td>1.00</td>\n",
       "      <td>1180</td>\n",
       "      <td>5650</td>\n",
       "      <td>1.0</td>\n",
       "      <td>0</td>\n",
       "      <td>...</td>\n",
       "      <td>7</td>\n",
       "      <td>1180</td>\n",
       "      <td>0</td>\n",
       "      <td>1955</td>\n",
       "      <td>0</td>\n",
       "      <td>98178</td>\n",
       "      <td>47.5112</td>\n",
       "      <td>-122.257</td>\n",
       "      <td>1340</td>\n",
       "      <td>5650</td>\n",
       "    </tr>\n",
       "    <tr>\n",
       "      <th>1</th>\n",
       "      <td>1</td>\n",
       "      <td>6414100192</td>\n",
       "      <td>20141209T000000</td>\n",
       "      <td>538000.0</td>\n",
       "      <td>3.0</td>\n",
       "      <td>2.25</td>\n",
       "      <td>2570</td>\n",
       "      <td>7242</td>\n",
       "      <td>2.0</td>\n",
       "      <td>0</td>\n",
       "      <td>...</td>\n",
       "      <td>7</td>\n",
       "      <td>2170</td>\n",
       "      <td>400</td>\n",
       "      <td>1951</td>\n",
       "      <td>1991</td>\n",
       "      <td>98125</td>\n",
       "      <td>47.7210</td>\n",
       "      <td>-122.319</td>\n",
       "      <td>1690</td>\n",
       "      <td>7639</td>\n",
       "    </tr>\n",
       "    <tr>\n",
       "      <th>2</th>\n",
       "      <td>2</td>\n",
       "      <td>5631500400</td>\n",
       "      <td>20150225T000000</td>\n",
       "      <td>180000.0</td>\n",
       "      <td>2.0</td>\n",
       "      <td>1.00</td>\n",
       "      <td>770</td>\n",
       "      <td>10000</td>\n",
       "      <td>1.0</td>\n",
       "      <td>0</td>\n",
       "      <td>...</td>\n",
       "      <td>6</td>\n",
       "      <td>770</td>\n",
       "      <td>0</td>\n",
       "      <td>1933</td>\n",
       "      <td>0</td>\n",
       "      <td>98028</td>\n",
       "      <td>47.7379</td>\n",
       "      <td>-122.233</td>\n",
       "      <td>2720</td>\n",
       "      <td>8062</td>\n",
       "    </tr>\n",
       "    <tr>\n",
       "      <th>3</th>\n",
       "      <td>3</td>\n",
       "      <td>2487200875</td>\n",
       "      <td>20141209T000000</td>\n",
       "      <td>604000.0</td>\n",
       "      <td>4.0</td>\n",
       "      <td>3.00</td>\n",
       "      <td>1960</td>\n",
       "      <td>5000</td>\n",
       "      <td>1.0</td>\n",
       "      <td>0</td>\n",
       "      <td>...</td>\n",
       "      <td>7</td>\n",
       "      <td>1050</td>\n",
       "      <td>910</td>\n",
       "      <td>1965</td>\n",
       "      <td>0</td>\n",
       "      <td>98136</td>\n",
       "      <td>47.5208</td>\n",
       "      <td>-122.393</td>\n",
       "      <td>1360</td>\n",
       "      <td>5000</td>\n",
       "    </tr>\n",
       "    <tr>\n",
       "      <th>4</th>\n",
       "      <td>4</td>\n",
       "      <td>1954400510</td>\n",
       "      <td>20150218T000000</td>\n",
       "      <td>510000.0</td>\n",
       "      <td>3.0</td>\n",
       "      <td>2.00</td>\n",
       "      <td>1680</td>\n",
       "      <td>8080</td>\n",
       "      <td>1.0</td>\n",
       "      <td>0</td>\n",
       "      <td>...</td>\n",
       "      <td>8</td>\n",
       "      <td>1680</td>\n",
       "      <td>0</td>\n",
       "      <td>1987</td>\n",
       "      <td>0</td>\n",
       "      <td>98074</td>\n",
       "      <td>47.6168</td>\n",
       "      <td>-122.045</td>\n",
       "      <td>1800</td>\n",
       "      <td>7503</td>\n",
       "    </tr>\n",
       "  </tbody>\n",
       "</table>\n",
       "<p>5 rows × 22 columns</p>\n",
       "</div>"
      ],
      "text/plain": [
       "   Unnamed: 0          id             date     price  bedrooms  bathrooms  \\\n",
       "0           0  7129300520  20141013T000000  221900.0       3.0       1.00   \n",
       "1           1  6414100192  20141209T000000  538000.0       3.0       2.25   \n",
       "2           2  5631500400  20150225T000000  180000.0       2.0       1.00   \n",
       "3           3  2487200875  20141209T000000  604000.0       4.0       3.00   \n",
       "4           4  1954400510  20150218T000000  510000.0       3.0       2.00   \n",
       "\n",
       "   sqft_living  sqft_lot  floors  waterfront  ...  grade  sqft_above  \\\n",
       "0         1180      5650     1.0           0  ...      7        1180   \n",
       "1         2570      7242     2.0           0  ...      7        2170   \n",
       "2          770     10000     1.0           0  ...      6         770   \n",
       "3         1960      5000     1.0           0  ...      7        1050   \n",
       "4         1680      8080     1.0           0  ...      8        1680   \n",
       "\n",
       "   sqft_basement  yr_built  yr_renovated  zipcode      lat     long  \\\n",
       "0              0      1955             0    98178  47.5112 -122.257   \n",
       "1            400      1951          1991    98125  47.7210 -122.319   \n",
       "2              0      1933             0    98028  47.7379 -122.233   \n",
       "3            910      1965             0    98136  47.5208 -122.393   \n",
       "4              0      1987             0    98074  47.6168 -122.045   \n",
       "\n",
       "   sqft_living15  sqft_lot15  \n",
       "0           1340        5650  \n",
       "1           1690        7639  \n",
       "2           2720        8062  \n",
       "3           1360        5000  \n",
       "4           1800        7503  \n",
       "\n",
       "[5 rows x 22 columns]"
      ]
     },
     "execution_count": 2,
     "metadata": {},
     "output_type": "execute_result"
    }
   ],
   "source": [
    "df= pd.read_csv('D://pyworks/pydata/kc_house_prices.csv')\n",
    "df.head()"
   ]
  },
  {
   "cell_type": "markdown",
   "id": "d7cc8e08-2bfc-464a-99cf-ad610429df2b",
   "metadata": {},
   "source": [
    "<p style=\"font-size:125%;  color:#669C1B\">\n",
    "<b> Q1</b> :Display the data types of each column using the function dtypes\n",
    "</p>\n"
   ]
  },
  {
   "cell_type": "code",
   "execution_count": 3,
   "id": "48622dbc-3f60-41c8-a1f4-aefd503aadf9",
   "metadata": {},
   "outputs": [
    {
     "data": {
      "text/plain": [
       "Unnamed: 0         int64\n",
       "id                 int64\n",
       "date              object\n",
       "price            float64\n",
       "bedrooms         float64\n",
       "bathrooms        float64\n",
       "sqft_living        int64\n",
       "sqft_lot           int64\n",
       "floors           float64\n",
       "waterfront         int64\n",
       "view               int64\n",
       "condition          int64\n",
       "grade              int64\n",
       "sqft_above         int64\n",
       "sqft_basement      int64\n",
       "yr_built           int64\n",
       "yr_renovated       int64\n",
       "zipcode            int64\n",
       "lat              float64\n",
       "long             float64\n",
       "sqft_living15      int64\n",
       "sqft_lot15         int64\n",
       "dtype: object"
      ]
     },
     "execution_count": 3,
     "metadata": {},
     "output_type": "execute_result"
    }
   ],
   "source": [
    "df.dtypes"
   ]
  },
  {
   "cell_type": "markdown",
   "id": "473ad5cf-61d1-4797-b214-8dbbf9785df4",
   "metadata": {},
   "source": [
    "<b><p style=\"font-size:170%;  color:#494A4A\">  Module 2: Data Wrangling </p></b>\n"
   ]
  },
  {
   "cell_type": "markdown",
   "id": "0259b957-893c-42d4-9d2c-7ea8abceda69",
   "metadata": {},
   "source": [
    "\n",
    "\n",
    "<p style=\"font-size:125%;  color:#669C1B\">\n",
    "<b>Q2</b> : Drop the columns \"id\" and \"Unnamed: 0\" from axis 1 using the method drop(), then use the method describe() to obtain a statistical summary of the data. \n",
    "</p>"
   ]
  },
  {
   "cell_type": "code",
   "execution_count": 4,
   "id": "d02d6e8a-0926-41f1-9b90-847be68e2678",
   "metadata": {},
   "outputs": [
    {
     "data": {
      "text/plain": [
       "Index(['Unnamed: 0', 'id', 'date', 'price', 'bedrooms', 'bathrooms',\n",
       "       'sqft_living', 'sqft_lot', 'floors', 'waterfront', 'view', 'condition',\n",
       "       'grade', 'sqft_above', 'sqft_basement', 'yr_built', 'yr_renovated',\n",
       "       'zipcode', 'lat', 'long', 'sqft_living15', 'sqft_lot15'],\n",
       "      dtype='object')"
      ]
     },
     "execution_count": 4,
     "metadata": {},
     "output_type": "execute_result"
    }
   ],
   "source": [
    "df.columns"
   ]
  },
  {
   "cell_type": "code",
   "execution_count": 5,
   "id": "ed46ba45-f3d5-4006-9c3e-878ab504b94b",
   "metadata": {},
   "outputs": [],
   "source": [
    "df.drop(columns=[\"id\",'Unnamed: 0'],inplace=True)  "
   ]
  },
  {
   "cell_type": "code",
   "execution_count": null,
   "id": "6b419c91-c166-4380-a7ef-391bd3658636",
   "metadata": {},
   "outputs": [],
   "source": [
    "df.describe()"
   ]
  },
  {
   "cell_type": "code",
   "execution_count": 7,
   "id": "f6082e2e-d544-49bb-bee6-52d5a04b2c2b",
   "metadata": {},
   "outputs": [
    {
     "name": "stdout",
     "output_type": "stream",
     "text": [
      "number of NaN values for the column bedrooms : 13\n",
      "number of NaN values for the column bathrooms : 10\n"
     ]
    }
   ],
   "source": [
    "# print the missing values for the columns  bedrooms and  bathrooms \n",
    "\n",
    "print(\"number of NaN values for the column bedrooms :\", df['bedrooms'].isnull().sum())\n",
    "print(\"number of NaN values for the column bathrooms :\", df['bathrooms'].isnull().sum())"
   ]
  },
  {
   "cell_type": "code",
   "execution_count": 8,
   "id": "296f4ed7-0aa6-4118-8bb1-29dc0b265c3e",
   "metadata": {},
   "outputs": [],
   "source": [
    "# Replace the missing values in bedroms\n",
    "\n",
    "mean1=df['bedrooms'].mean()\n",
    "df['bedrooms'].replace(np.nan,mean1, inplace=True)\n",
    "\n",
    "mean2=df['bathrooms'].mean()\n",
    "df['bathrooms'].replace(np.nan,mean2, inplace=True)"
   ]
  },
  {
   "cell_type": "code",
   "execution_count": 9,
   "id": "1d57ced5-ee47-401b-9953-30ef16b08959",
   "metadata": {},
   "outputs": [
    {
     "name": "stdout",
     "output_type": "stream",
     "text": [
      "number of NaN values for the column bedrooms : 0\n",
      "number of NaN values for the column bathrooms : 0\n"
     ]
    }
   ],
   "source": [
    "# Check again for NA values\n",
    "print(\"number of NaN values for the column bedrooms :\", df['bedrooms'].isnull().sum())\n",
    "print(\"number of NaN values for the column bathrooms :\", df['bathrooms'].isnull().sum())"
   ]
  },
  {
   "cell_type": "markdown",
   "id": "b24265e9-d35e-43ec-8424-a06a03b76d9b",
   "metadata": {},
   "source": [
    "<b><p style=\"font-size:170%;  color:#494A4A\">  Module 3: Exploratory Data Analysis </p></b> "
   ]
  },
  {
   "cell_type": "markdown",
   "id": "77094e58-8cc1-485b-99ab-ab9012dd5393",
   "metadata": {},
   "source": [
    "\n",
    "<br>\n",
    "<p style=\"font-size:125%;  color:#669C1B\">\n",
    "<b>Q3</b> :Use the method value_counts to count the number of houses with unique floor values, use the method .to_frame() to convert it to a data frame\n",
    "</p>\n"
   ]
  },
  {
   "cell_type": "code",
   "execution_count": 10,
   "id": "9ffa3a9a-e26a-463f-99aa-42c499d84db9",
   "metadata": {},
   "outputs": [
    {
     "data": {
      "text/html": [
       "<div>\n",
       "<style scoped>\n",
       "    .dataframe tbody tr th:only-of-type {\n",
       "        vertical-align: middle;\n",
       "    }\n",
       "\n",
       "    .dataframe tbody tr th {\n",
       "        vertical-align: top;\n",
       "    }\n",
       "\n",
       "    .dataframe thead th {\n",
       "        text-align: right;\n",
       "    }\n",
       "</style>\n",
       "<table border=\"1\" class=\"dataframe\">\n",
       "  <thead>\n",
       "    <tr style=\"text-align: right;\">\n",
       "      <th></th>\n",
       "      <th>floors</th>\n",
       "      <th>count</th>\n",
       "    </tr>\n",
       "  </thead>\n",
       "  <tbody>\n",
       "    <tr>\n",
       "      <th>0</th>\n",
       "      <td>1.0</td>\n",
       "      <td>10680</td>\n",
       "    </tr>\n",
       "    <tr>\n",
       "      <th>1</th>\n",
       "      <td>2.0</td>\n",
       "      <td>8241</td>\n",
       "    </tr>\n",
       "    <tr>\n",
       "      <th>2</th>\n",
       "      <td>1.5</td>\n",
       "      <td>1910</td>\n",
       "    </tr>\n",
       "    <tr>\n",
       "      <th>3</th>\n",
       "      <td>3.0</td>\n",
       "      <td>613</td>\n",
       "    </tr>\n",
       "    <tr>\n",
       "      <th>4</th>\n",
       "      <td>2.5</td>\n",
       "      <td>161</td>\n",
       "    </tr>\n",
       "    <tr>\n",
       "      <th>5</th>\n",
       "      <td>3.5</td>\n",
       "      <td>8</td>\n",
       "    </tr>\n",
       "  </tbody>\n",
       "</table>\n",
       "</div>"
      ],
      "text/plain": [
       "   floors  count\n",
       "0     1.0  10680\n",
       "1     2.0   8241\n",
       "2     1.5   1910\n",
       "3     3.0    613\n",
       "4     2.5    161\n",
       "5     3.5      8"
      ]
     },
     "execution_count": 10,
     "metadata": {},
     "output_type": "execute_result"
    }
   ],
   "source": [
    "floors = df['floors'].value_counts().to_frame().reset_index()\n",
    "floors"
   ]
  },
  {
   "cell_type": "markdown",
   "id": "55c18226-08b7-4307-b072-8d58388dd22d",
   "metadata": {},
   "source": [
    "\n",
    "<br> \n",
    "<p style=\"font-size:125%;  color:#669C1B\">\n",
    "<b>Q4</b>: Use the function boxplot to determine whether houses with a waterfront view or without a waterfront view have more price outliers.\n",
    "</p>"
   ]
  },
  {
   "cell_type": "code",
   "execution_count": 11,
   "id": "7fa83660-0136-48e5-9fb2-2790adfa536b",
   "metadata": {},
   "outputs": [
    {
     "data": {
      "image/png": "[encoded data removed]",
      "text/plain": [
       "<Figure size 640x480 with 1 Axes>"
      ]
     },
     "metadata": {},
     "output_type": "display_data"
    }
   ],
   "source": [
    "# using the boxplot to show the number of outliers:\n",
    "\n",
    "sns.set_style(\"whitegrid\")\n",
    "m= sns.boxplot(x= 'waterfront' , y= 'price' , data=df)\n",
    "m.set(xlabel =\"Has a Waterfront view ?\",  title ='WaterFront View Prices comparison ')\n",
    "m.set_xticklabels(['No', 'Yes']);"
   ]
  },
  {
   "cell_type": "markdown",
   "id": "cd3592b5-f0f5-4c53-9403-eca47f10bba4",
   "metadata": {},
   "source": [
    "\n",
    "<br>\n",
    "<p style=\"font-size:125%;  color:#669C1B\">\n",
    "<b>Q5</b> : Use the function regplot to determine if the feature sqft_above is negatively or positively correlated with price\n",
    "</p>"
   ]
  },
  {
   "cell_type": "code",
   "execution_count": 12,
   "id": "653d6786-3316-4ffb-beef-248fe9a0a5fc",
   "metadata": {},
   "outputs": [
    {
     "data": {
      "image/png": "[encoded data removed]",
      "text/plain": [
       "<Figure size 640x480 with 1 Axes>"
      ]
     },
     "metadata": {},
     "output_type": "display_data"
    }
   ],
   "source": [
    "# create a regression plot to determine the corrlation between sqft_above and price:\n",
    "\n",
    "sns.set_style(\"whitegrid\")\n",
    "m= sns.regplot(x= 'sqft_above' , y= 'price' , data=df, scatter_kws={'alpha':0.4 , 'color':'gray'})\n",
    "m.set(xlabel =\"Square footage of house apart from basement\", \n",
    "      ylabel =\"Price\", \n",
    "      title ='The corrlation between sqft_above and price ');"
   ]
  },
  {
   "cell_type": "markdown",
   "id": "04e76d61-1f82-4334-b126-56ed6635c917",
   "metadata": {},
   "source": [
    "<b><p style=\"font-size:170%;  color:#494A4A\">  Module 4: Model Development </p></b> \n",
    "\n"
   ]
  },
  {
   "cell_type": "markdown",
   "id": "075b5316-1b9d-4677-b57d-417577f2b222",
   "metadata": {},
   "source": [
    "We can Fit a linear regression model using the longitude feature 'long' and caculate the R^2."
   ]
  },
  {
   "cell_type": "markdown",
   "id": "8389a114-254b-45ca-8fc6-b49d1b73f644",
   "metadata": {},
   "source": [
    "\n",
    "<br>\n",
    "<p style=\"font-size:125%;  color:#669C1B\">\n",
    "<b>Q6</b> : Fit a linear regression model to predict the 'price' using the feature 'sqft_living' then calculate the R^2\n",
    "</p>\n"
   ]
  },
  {
   "cell_type": "code",
   "execution_count": 15,
   "id": "da953462-47ac-49ae-b693-e4959c67bb33",
   "metadata": {},
   "outputs": [
    {
     "data": {
      "text/plain": [
       "(0.4928532179037931, 0.4928532179037931)"
      ]
     },
     "execution_count": 15,
     "metadata": {},
     "output_type": "execute_result"
    }
   ],
   "source": [
    "# create variables :\n",
    "X = df[['sqft_living']]\n",
    "y = df['price']\n",
    "\n",
    "# create the model \n",
    "lm= LinearRegression()\n",
    "\n",
    "# fit the model\n",
    "lm.fit(X,y)\n",
    "\n",
    "# make a prediction \n",
    "y_hat=lm.predict(X)\n",
    "\n",
    "r_squared_1 = lm.score(X, y)\n",
    "\n",
    "################################################################\n",
    "# another way to calaculate R^2 using r2_score library\n",
    "r_squared_2 = r2_score(y, y_hat) \n",
    "\n",
    "# get the results\n",
    "r_squared_1, r_squared_2"
   ]
  },
  {
   "cell_type": "markdown",
   "id": "970f8330-e74a-4bef-a62c-db1bb4847335",
   "metadata": {},
   "source": [
    "\n",
    "<br>\n",
    "<p style=\"font-size:125%;  color:#669C1B\">\n",
    "<b>Q7</b> : Fit a linear regression model to predict the 'price' using the list of given features:\n",
    "</p>\n"
   ]
  },
  {
   "cell_type": "code",
   "execution_count": 17,
   "id": "16549ca4-8a21-49a8-8393-00c0a421c02b",
   "metadata": {},
   "outputs": [
    {
     "name": "stdout",
     "output_type": "stream",
     "text": [
      " the R_squared result for the model = 0.65769516660375\n"
     ]
    }
   ],
   "source": [
    "# create a new variable \n",
    "features =[\"floors\", \"waterfront\",\"lat\" ,\"bedrooms\" ,\"sqft_basement\" ,\"view\" ,\"bathrooms\",\"sqft_living15\",\"sqft_above\",\"grade\",\"sqft_living\"]  \n",
    "\n",
    "# feature data\n",
    "X= df[features]\n",
    "\n",
    "# target variable \n",
    "y= df['price']\n",
    "\n",
    "# Scale Features\n",
    "scaler = StandardScaler()\n",
    "X_scaled = scaler.fit_transform(X)\n",
    "\n",
    "# Fit The linear regression model\n",
    "lm = LinearRegression()\n",
    "lm.fit(X_scaled, y)\n",
    "\n",
    "# Predict using the scaled data\n",
    "y_hat = lm.predict(X_scaled)\n",
    "\n",
    "# calculate R^2\n",
    "r_squared = r2_score(y, y_hat)\n",
    "\n",
    "# Print the results for R^2 \n",
    "print(f' the R_squared result for the model = {r_squared}')"
   ]
  },
  {
   "cell_type": "markdown",
   "id": "df37ebd9-dd29-46f5-a149-f5d54a53fd5b",
   "metadata": {},
   "source": [
    "\n",
    "<br>\n",
    "<p style=\"font-size:125%;  color:#669C1B\">\n",
    "<b>Q8</b> : create a pipeline object to predict the 'price', fit the object using the features in the list features, and calculate the R^2\n",
    "</p>\n"
   ]
  },
  {
   "cell_type": "code",
   "execution_count": 18,
   "id": "e2782cf2-ac5f-4093-9898-2297bb207751",
   "metadata": {},
   "outputs": [
    {
     "name": "stdout",
     "output_type": "stream",
     "text": [
      " the R_squared result for pipeline = 0.759980799315517\n"
     ]
    }
   ],
   "source": [
    "# define the feature and target :\n",
    "features =[\"floors\", \"waterfront\",\"lat\" ,\"bedrooms\" ,\"sqft_basement\" ,\"view\" ,\"bathrooms\",\"sqft_living15\",\"sqft_above\",\"grade\",\"sqft_living\"]  \n",
    "X= df[features]\n",
    "y= df['price']\n",
    "\n",
    "# Split Data into Training and Test Sets:\n",
    "X_train, X_test, y_train, y_test = train_test_split(X, y, test_size=0.2, random_state=1)\n",
    "\n",
    "# create a pipeline object as requestd :\n",
    "Input=[('scale',StandardScaler()),\n",
    "       ('polynomial', PolynomialFeatures(include_bias=False)),\n",
    "       ('model',LinearRegression())]\n",
    "\n",
    "pipeline = Pipeline(Input)\n",
    "\n",
    "# Fit the pipeline on the training data\n",
    "pipeline.fit(X_train, y_train)\n",
    "\n",
    "# Use the pipeline to make predictions on the test data\n",
    "y_pred = pipeline.predict(X_test)\n",
    "\n",
    "# calculate R^2\n",
    "r2_result = r2_score(y_test, y_pred)\n",
    "\n",
    "# Print the results for R^2 \n",
    "print(f' the R_squared result for pipeline = {r2_result}')"
   ]
  },
  {
   "cell_type": "markdown",
   "id": "085bab40-2c33-41fe-9a2f-2a47fda9683c",
   "metadata": {},
   "source": [
    "   "
   ]
  },
  {
   "cell_type": "markdown",
   "id": "0462aab0-7b34-464c-856a-bfe7f154ac41",
   "metadata": {},
   "source": [
    "\n",
    "\n",
    "<b><p style=\"font-size:170%;  color:#494A4A\">  Module 5: Model Evaluation and Refinement </p></b> \n"
   ]
  },
  {
   "cell_type": "markdown",
   "id": "9a298e8d-a8df-4861-94c6-0a0c24f79cc4",
   "metadata": {},
   "source": [
    "<br>\n",
    "<p style=\"font-size:125%;  color:#669C1B\">\n",
    "<b>Q9</b> : Create and fit a Ridge regression object using the training data, set the regularization parameter to 0.1, and calculate the R^2 using the test data. Take a screenshot of your code and the value of the R^2\n",
    "</p>\n"
   ]
  },
  {
   "cell_type": "code",
   "execution_count": 19,
   "id": "fe1e27c4-f56d-4b65-9120-67ab07b7d068",
   "metadata": {},
   "outputs": [
    {
     "name": "stdout",
     "output_type": "stream",
     "text": [
      " the R_squared result for the ridge model = 0.646185751262637\n"
     ]
    }
   ],
   "source": [
    "features =[\"floors\", \"waterfront\",\"lat\" ,\"bedrooms\" ,\"sqft_basement\" ,\"view\" ,\"bathrooms\",\"sqft_living15\",\"sqft_above\",\"grade\",\"sqft_living\"]    \n",
    "X = df[features]\n",
    "Y = df['price']\n",
    "\n",
    "# Scaling features\n",
    "scaler = StandardScaler()\n",
    "X_scaled = scaler.fit_transform(X)\n",
    "\n",
    "# split data\n",
    "x_train, x_test, y_train, y_test = train_test_split(X_scaled, Y, test_size=0.25, random_state=1)\n",
    "\n",
    "# Fitting The Ridge regression model\n",
    "ridge = Ridge(alpha=0.1) \n",
    "ridge.fit(x_train, y_train)\n",
    "\n",
    "# Predicting for test data\n",
    "y_pred =  ridge.predict(x_test)\n",
    "\n",
    "# Evaluating the model \n",
    "r2 = r2_score(y_test,y_pred )\n",
    "\n",
    "# Print the results for R^2 \n",
    "print(f' the R_squared result for the ridge model = {r2}')"
   ]
  },
  {
   "cell_type": "markdown",
   "id": "57d72547-5883-4a42-af43-70e629c84d14",
   "metadata": {},
   "source": [
    "<br>\n",
    "<p style=\"font-size:125%;  color:#669C1B\">\n",
    "<b>Q10</b> : Perform a second order polynomial. Create and fit a Ridge regression, set the regularisation parameter to 0.1, and calculate the R^2 .\n",
    "</p>\n"
   ]
  },
  {
   "cell_type": "code",
   "execution_count": 20,
   "id": "284b0f35-9c04-46f6-90bc-0c6858cfb94c",
   "metadata": {},
   "outputs": [
    {
     "name": "stdout",
     "output_type": "stream",
     "text": [
      " the R_squared result for pipeline = 0.7632811659636093\n"
     ]
    }
   ],
   "source": [
    "# prepare data: \n",
    "features =[\"floors\", \"waterfront\",\"lat\" ,\"bedrooms\" ,\"sqft_basement\" ,\"view\" ,\"bathrooms\",\"sqft_living15\",\"sqft_above\",\"grade\",\"sqft_living\"]    \n",
    "X = df[features]\n",
    "Y = df['price']\n",
    "# Scaling features:\n",
    "scaler = StandardScaler()\n",
    "X_scaled = scaler.fit_transform(X)\n",
    "\n",
    "# split data to train and test (80 20)\n",
    "x_train, x_test, y_train, y_test = train_test_split(X_scaled, Y, test_size=0.2, random_state=1)\n",
    "\n",
    "# create a pipeline object :\n",
    "Input=[('polynomial', PolynomialFeatures(degree=2, include_bias=False)),\n",
    "       ('model',Ridge(alpha=0.1)) ]\n",
    "\n",
    "pipeline = Pipeline(Input)\n",
    "\n",
    "# Fit the pipeline on the training data:\n",
    "pipeline.fit(x_train, y_train)\n",
    "\n",
    "# Use the pipeline to make predictions on the test data:\n",
    "y_pred = pipeline.predict(x_test)\n",
    "\n",
    "# calculate R^2:\n",
    "r2_result = r2_score(y_test, y_pred)\n",
    "\n",
    "# Print the results for R^2:\n",
    "print(f' the R_squared result for pipeline = {r2_result}')"
   ]
  },
  {
   "cell_type": "markdown",
   "id": "3ad54ada-b517-4173-807f-bb34ae56a10a",
   "metadata": {},
   "source": [
    "<br>\n",
    "<b><p style=\"font-size:200%; text-align: center;  color:#494A4A\">  Done  </p></b>\n",
    "<b><p style=\"font-size:110%; text-align: center; color:#494A4A\">  Thank you for your time   </p></b>"
   ]
  }
 ],
 "metadata": {
  "kernelspec": {
   "display_name": "Python 3 (ipykernel)",
   "language": "python",
   "name": "python3"
  },
  "language_info": {
   "codemirror_mode": {
    "name": "ipython",
    "version": 3
   },
   "file_extension": ".py",
   "mimetype": "text/x-python",
   "name": "python",
   "nbconvert_exporter": "python",
   "pygments_lexer": "ipython3",
   "version": "3.9.18"
  }
 },
 "nbformat": 4,
 "nbformat_minor": 5
}
