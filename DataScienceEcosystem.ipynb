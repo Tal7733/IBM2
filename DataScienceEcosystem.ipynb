{
 "cells": [
  {
   "cell_type": "markdown",
   "id": "f7cd7124",
   "metadata": {},
   "source": [
    "## Tools for Data Science ( Final Assignment )"
   ]
  },
  {
   "cell_type": "markdown",
   "id": "29f61a8f",
   "metadata": {},
   "source": [
    "**Exercise 2:Create markdown cell with title of the notebook**"
   ]
  },
  {
   "cell_type": "markdown",
   "id": "be93a8fc",
   "metadata": {},
   "source": [
    "# Data Science Tools and Ecosystem"
   ]
  },
  {
   "cell_type": "markdown",
   "id": "37a6639e",
   "metadata": {},
   "source": [
    "**Exercise 3 - Create a markdown cell for an introduction**<br>"
   ]
  },
  {
   "cell_type": "markdown",
   "id": "d3ba9ce9",
   "metadata": {},
   "source": [
    "In this notebook, Data Science Tools and Ecosystem are summarized."
   ]
  },
  {
   "cell_type": "markdown",
   "id": "69740f10",
   "metadata": {},
   "source": [
    "some of the key takeaways from the course<br>\n",
    "\n",
    "**Objectives:**\n",
    "\n",
    "<ul>\n",
    "<li>A List of popular languages for Data Science</li>\n",
    "<li>Some of the commonly used libraries used by Data Scientists include</li>\n",
    "<li>Most development environment open source tools used in data science</li>\n",
    "<li>a view arithmetic expressions in Python  </li>\n",
    "</ul>"
   ]
  },
  {
   "cell_type": "markdown",
   "id": "4193f152",
   "metadata": {},
   "source": [
    "**Exercise 4 - Create a markdown cell to list data science languages**\n"
   ]
  },
  {
   "cell_type": "markdown",
   "id": "ffcf6b05",
   "metadata": {},
   "source": [
    "Some of the popular data science programming languages are : <br>\n",
    "\n",
    "<ol>\n",
    "<li>Python</li>\n",
    "<li>R</li>\n",
    "<li>SQL</li>\n",
    "</ol>"
   ]
  },
  {
   "cell_type": "markdown",
   "id": "89550a7d",
   "metadata": {},
   "source": [
    "**Exercise 5 - Create a markdown cell to list data science libraries**"
   ]
  },
  {
   "cell_type": "markdown",
   "id": "112b1c3d",
   "metadata": {},
   "source": [
    "Some of the commonly used libraries used by Data Scientists include: : <br>\n",
    "\n",
    "### Python:\n",
    "<ol>\n",
    "<li>Pandas</li>\n",
    "<li>NumPy</li>\n",
    "<li>Sci-Kit Learn</li>\n",
    "</ol>\n",
    "\n",
    "### R:\n",
    "<ol>\n",
    "<li>caret</li>\n",
    "<li>ggplot2</li>\n",
    "</ol>\n",
    "\n",
    "\n"
   ]
  },
  {
   "cell_type": "markdown",
   "id": "97ebc0d1",
   "metadata": {},
   "source": [
    "**Exercise 6 - Create a markdown cell with a table of Data Science tools**"
   ]
  },
  {
   "cell_type": "markdown",
   "id": "abb47472",
   "metadata": {},
   "source": [
    "\n",
    "**Some development environment open source tools used in data science**\n",
    "\n",
    "|**Data Science tools**| \n",
    "|:----------:|\n",
    "|Jupyter|\n",
    "|R studio|\n",
    "|Spyder|\n",
    "\n",
    "\n",
    "\n",
    "\n",
    "\n"
   ]
  },
  {
   "cell_type": "markdown",
   "id": "930c8156",
   "metadata": {},
   "source": [
    "**Exercise 7 - Create a markdown cell introducing arithmetic expression examples**"
   ]
  },
  {
   "cell_type": "markdown",
   "id": "f1b643c9",
   "metadata": {},
   "source": [
    "### Below are a few examples of evaluating arithmetic expressions in Python\n",
    "\n"
   ]
  },
  {
   "cell_type": "markdown",
   "id": "9e34a1b9",
   "metadata": {},
   "source": [
    "**Exercise 8 - Create a code cell to multiply and add numbers**"
   ]
  },
  {
   "cell_type": "code",
   "execution_count": 11,
   "id": "54d90f02",
   "metadata": {},
   "outputs": [
    {
     "data": {
      "text/plain": [
       "17"
      ]
     },
     "execution_count": 11,
     "metadata": {},
     "output_type": "execute_result"
    }
   ],
   "source": [
    "(3*4)+ 5"
   ]
  },
  {
   "cell_type": "markdown",
   "id": "092fd4ab",
   "metadata": {},
   "source": [
    "**Exercise 9 - Create a code cell to convert minutes to hours**"
   ]
  },
  {
   "cell_type": "code",
   "execution_count": 12,
   "id": "e939a958",
   "metadata": {},
   "outputs": [
    {
     "name": "stdout",
     "output_type": "stream",
     "text": [
      "3.3333333333333335\n"
     ]
    }
   ],
   "source": [
    "# convert 200 minutes to hours:\n",
    "\n",
    "m = 200\n",
    "h= m/ 60 \n",
    "print(h)"
   ]
  },
  {
   "cell_type": "markdown",
   "id": "9426d04d",
   "metadata": {},
   "source": [
    "**Exercise 10 - Insert a markdown cell to list Objectives**"
   ]
  },
  {
   "cell_type": "markdown",
   "id": "f6aa4ca2",
   "metadata": {},
   "source": [
    "**Exercise 11 - Create a markdown cell to indicate the Author's name**"
   ]
  },
  {
   "cell_type": "markdown",
   "id": "bbe52811",
   "metadata": {},
   "source": [
    "## Author:\n",
    "Talal"
   ]
  }
 ],
 "metadata": {
  "kernelspec": {
   "display_name": "Python 3 (ipykernel)",
   "language": "python",
   "name": "python3"
  },
  "language_info": {
   "codemirror_mode": {
    "name": "ipython",
    "version": 3
   },
   "file_extension": ".py",
   "mimetype": "text/x-python",
   "name": "python",
   "nbconvert_exporter": "python",
   "pygments_lexer": "ipython3",
   "version": "3.9.12"
  }
 },
 "nbformat": 4,
 "nbformat_minor": 5
}
